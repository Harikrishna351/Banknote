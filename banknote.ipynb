{
  "nbformat": 4,
  "nbformat_minor": 0,
  "metadata": {
    "colab": {
      "name": "banknote.ipynb",
      "provenance": [],
      "collapsed_sections": []
    },
    "kernelspec": {
      "name": "python3",
      "display_name": "Python 3"
    },
    "language_info": {
      "name": "python"
    }
  },
  "cells": [
    {
      "cell_type": "code",
      "metadata": {
        "id": "pwPSk696rn-T"
      },
      "source": [
        "from google.colab import drive"
      ],
      "execution_count": 3,
      "outputs": []
    },
    {
      "cell_type": "code",
      "metadata": {
        "colab": {
          "base_uri": "https://localhost:8080/"
        },
        "id": "PEa_bZiArtGW",
        "outputId": "dfae1669-e501-4bf1-868e-fe6bb41adeb2"
      },
      "source": [
        "drive.mount('/content/drive')\n"
      ],
      "execution_count": 4,
      "outputs": [
        {
          "output_type": "stream",
          "text": [
            "Mounted at /content/drive\n"
          ],
          "name": "stdout"
        }
      ]
    },
    {
      "cell_type": "code",
      "metadata": {
        "colab": {
          "base_uri": "https://localhost:8080/",
          "height": 419
        },
        "id": "lzZakxtxryNS",
        "outputId": "dda0c421-36f8-4fe1-9c02-953a1158976c"
      },
      "source": [
        "import pandas as pd\n",
        "import numpy as np # linear algebra\n",
        "import tensorflow as tf\n",
        "from tensorflow import keras\n",
        "from tensorflow.keras.optimizers import Adam , SGD , RMSprop\n",
        "df=pd.read_csv(\"/content/drive/MyDrive/assignment/BankNote_Authentication.csv\")\n",
        "df"
      ],
      "execution_count": 5,
      "outputs": [
        {
          "output_type": "execute_result",
          "data": {
            "text/html": [
              "<div>\n",
              "<style scoped>\n",
              "    .dataframe tbody tr th:only-of-type {\n",
              "        vertical-align: middle;\n",
              "    }\n",
              "\n",
              "    .dataframe tbody tr th {\n",
              "        vertical-align: top;\n",
              "    }\n",
              "\n",
              "    .dataframe thead th {\n",
              "        text-align: right;\n",
              "    }\n",
              "</style>\n",
              "<table border=\"1\" class=\"dataframe\">\n",
              "  <thead>\n",
              "    <tr style=\"text-align: right;\">\n",
              "      <th></th>\n",
              "      <th>variance</th>\n",
              "      <th>skewness</th>\n",
              "      <th>curtosis</th>\n",
              "      <th>entropy</th>\n",
              "      <th>class</th>\n",
              "    </tr>\n",
              "  </thead>\n",
              "  <tbody>\n",
              "    <tr>\n",
              "      <th>0</th>\n",
              "      <td>3.62160</td>\n",
              "      <td>8.66610</td>\n",
              "      <td>-2.8073</td>\n",
              "      <td>-0.44699</td>\n",
              "      <td>0</td>\n",
              "    </tr>\n",
              "    <tr>\n",
              "      <th>1</th>\n",
              "      <td>4.54590</td>\n",
              "      <td>8.16740</td>\n",
              "      <td>-2.4586</td>\n",
              "      <td>-1.46210</td>\n",
              "      <td>0</td>\n",
              "    </tr>\n",
              "    <tr>\n",
              "      <th>2</th>\n",
              "      <td>3.86600</td>\n",
              "      <td>-2.63830</td>\n",
              "      <td>1.9242</td>\n",
              "      <td>0.10645</td>\n",
              "      <td>0</td>\n",
              "    </tr>\n",
              "    <tr>\n",
              "      <th>3</th>\n",
              "      <td>3.45660</td>\n",
              "      <td>9.52280</td>\n",
              "      <td>-4.0112</td>\n",
              "      <td>-3.59440</td>\n",
              "      <td>0</td>\n",
              "    </tr>\n",
              "    <tr>\n",
              "      <th>4</th>\n",
              "      <td>0.32924</td>\n",
              "      <td>-4.45520</td>\n",
              "      <td>4.5718</td>\n",
              "      <td>-0.98880</td>\n",
              "      <td>0</td>\n",
              "    </tr>\n",
              "    <tr>\n",
              "      <th>...</th>\n",
              "      <td>...</td>\n",
              "      <td>...</td>\n",
              "      <td>...</td>\n",
              "      <td>...</td>\n",
              "      <td>...</td>\n",
              "    </tr>\n",
              "    <tr>\n",
              "      <th>1367</th>\n",
              "      <td>0.40614</td>\n",
              "      <td>1.34920</td>\n",
              "      <td>-1.4501</td>\n",
              "      <td>-0.55949</td>\n",
              "      <td>1</td>\n",
              "    </tr>\n",
              "    <tr>\n",
              "      <th>1368</th>\n",
              "      <td>-1.38870</td>\n",
              "      <td>-4.87730</td>\n",
              "      <td>6.4774</td>\n",
              "      <td>0.34179</td>\n",
              "      <td>1</td>\n",
              "    </tr>\n",
              "    <tr>\n",
              "      <th>1369</th>\n",
              "      <td>-3.75030</td>\n",
              "      <td>-13.45860</td>\n",
              "      <td>17.5932</td>\n",
              "      <td>-2.77710</td>\n",
              "      <td>1</td>\n",
              "    </tr>\n",
              "    <tr>\n",
              "      <th>1370</th>\n",
              "      <td>-3.56370</td>\n",
              "      <td>-8.38270</td>\n",
              "      <td>12.3930</td>\n",
              "      <td>-1.28230</td>\n",
              "      <td>1</td>\n",
              "    </tr>\n",
              "    <tr>\n",
              "      <th>1371</th>\n",
              "      <td>-2.54190</td>\n",
              "      <td>-0.65804</td>\n",
              "      <td>2.6842</td>\n",
              "      <td>1.19520</td>\n",
              "      <td>1</td>\n",
              "    </tr>\n",
              "  </tbody>\n",
              "</table>\n",
              "<p>1372 rows × 5 columns</p>\n",
              "</div>"
            ],
            "text/plain": [
              "      variance  skewness  curtosis  entropy  class\n",
              "0      3.62160   8.66610   -2.8073 -0.44699      0\n",
              "1      4.54590   8.16740   -2.4586 -1.46210      0\n",
              "2      3.86600  -2.63830    1.9242  0.10645      0\n",
              "3      3.45660   9.52280   -4.0112 -3.59440      0\n",
              "4      0.32924  -4.45520    4.5718 -0.98880      0\n",
              "...        ...       ...       ...      ...    ...\n",
              "1367   0.40614   1.34920   -1.4501 -0.55949      1\n",
              "1368  -1.38870  -4.87730    6.4774  0.34179      1\n",
              "1369  -3.75030 -13.45860   17.5932 -2.77710      1\n",
              "1370  -3.56370  -8.38270   12.3930 -1.28230      1\n",
              "1371  -2.54190  -0.65804    2.6842  1.19520      1\n",
              "\n",
              "[1372 rows x 5 columns]"
            ]
          },
          "metadata": {
            "tags": []
          },
          "execution_count": 5
        }
      ]
    },
    {
      "cell_type": "code",
      "metadata": {
        "colab": {
          "base_uri": "https://localhost:8080/"
        },
        "id": "DMDjyMThvi5Q",
        "outputId": "a40f40b3-8a4c-414d-992c-67b5fec653a6"
      },
      "source": [
        "df.info()"
      ],
      "execution_count": 6,
      "outputs": [
        {
          "output_type": "stream",
          "text": [
            "<class 'pandas.core.frame.DataFrame'>\n",
            "RangeIndex: 1372 entries, 0 to 1371\n",
            "Data columns (total 5 columns):\n",
            " #   Column    Non-Null Count  Dtype  \n",
            "---  ------    --------------  -----  \n",
            " 0   variance  1372 non-null   float64\n",
            " 1   skewness  1372 non-null   float64\n",
            " 2   curtosis  1372 non-null   float64\n",
            " 3   entropy   1372 non-null   float64\n",
            " 4   class     1372 non-null   int64  \n",
            "dtypes: float64(4), int64(1)\n",
            "memory usage: 53.7 KB\n"
          ],
          "name": "stdout"
        }
      ]
    },
    {
      "cell_type": "code",
      "metadata": {
        "colab": {
          "base_uri": "https://localhost:8080/"
        },
        "id": "AzNvWOKgv10m",
        "outputId": "bb6e6647-98dd-41ff-82cd-65c3c7360510"
      },
      "source": [
        "df.size"
      ],
      "execution_count": 7,
      "outputs": [
        {
          "output_type": "execute_result",
          "data": {
            "text/plain": [
              "6860"
            ]
          },
          "metadata": {
            "tags": []
          },
          "execution_count": 7
        }
      ]
    },
    {
      "cell_type": "code",
      "metadata": {
        "colab": {
          "base_uri": "https://localhost:8080/"
        },
        "id": "qeYJMnmqv6CG",
        "outputId": "93805190-7860-4bb9-fbcc-25c10918ccc2"
      },
      "source": [
        "df.shape"
      ],
      "execution_count": 8,
      "outputs": [
        {
          "output_type": "execute_result",
          "data": {
            "text/plain": [
              "(1372, 5)"
            ]
          },
          "metadata": {
            "tags": []
          },
          "execution_count": 8
        }
      ]
    },
    {
      "cell_type": "code",
      "metadata": {
        "colab": {
          "base_uri": "https://localhost:8080/",
          "height": 297
        },
        "id": "M84olpndv7x9",
        "outputId": "dde54e09-92c0-4d53-facc-85100bb37cdb"
      },
      "source": [
        "df.describe()"
      ],
      "execution_count": 9,
      "outputs": [
        {
          "output_type": "execute_result",
          "data": {
            "text/html": [
              "<div>\n",
              "<style scoped>\n",
              "    .dataframe tbody tr th:only-of-type {\n",
              "        vertical-align: middle;\n",
              "    }\n",
              "\n",
              "    .dataframe tbody tr th {\n",
              "        vertical-align: top;\n",
              "    }\n",
              "\n",
              "    .dataframe thead th {\n",
              "        text-align: right;\n",
              "    }\n",
              "</style>\n",
              "<table border=\"1\" class=\"dataframe\">\n",
              "  <thead>\n",
              "    <tr style=\"text-align: right;\">\n",
              "      <th></th>\n",
              "      <th>variance</th>\n",
              "      <th>skewness</th>\n",
              "      <th>curtosis</th>\n",
              "      <th>entropy</th>\n",
              "      <th>class</th>\n",
              "    </tr>\n",
              "  </thead>\n",
              "  <tbody>\n",
              "    <tr>\n",
              "      <th>count</th>\n",
              "      <td>1372.000000</td>\n",
              "      <td>1372.000000</td>\n",
              "      <td>1372.000000</td>\n",
              "      <td>1372.000000</td>\n",
              "      <td>1372.000000</td>\n",
              "    </tr>\n",
              "    <tr>\n",
              "      <th>mean</th>\n",
              "      <td>0.433735</td>\n",
              "      <td>1.922353</td>\n",
              "      <td>1.397627</td>\n",
              "      <td>-1.191657</td>\n",
              "      <td>0.444606</td>\n",
              "    </tr>\n",
              "    <tr>\n",
              "      <th>std</th>\n",
              "      <td>2.842763</td>\n",
              "      <td>5.869047</td>\n",
              "      <td>4.310030</td>\n",
              "      <td>2.101013</td>\n",
              "      <td>0.497103</td>\n",
              "    </tr>\n",
              "    <tr>\n",
              "      <th>min</th>\n",
              "      <td>-7.042100</td>\n",
              "      <td>-13.773100</td>\n",
              "      <td>-5.286100</td>\n",
              "      <td>-8.548200</td>\n",
              "      <td>0.000000</td>\n",
              "    </tr>\n",
              "    <tr>\n",
              "      <th>25%</th>\n",
              "      <td>-1.773000</td>\n",
              "      <td>-1.708200</td>\n",
              "      <td>-1.574975</td>\n",
              "      <td>-2.413450</td>\n",
              "      <td>0.000000</td>\n",
              "    </tr>\n",
              "    <tr>\n",
              "      <th>50%</th>\n",
              "      <td>0.496180</td>\n",
              "      <td>2.319650</td>\n",
              "      <td>0.616630</td>\n",
              "      <td>-0.586650</td>\n",
              "      <td>0.000000</td>\n",
              "    </tr>\n",
              "    <tr>\n",
              "      <th>75%</th>\n",
              "      <td>2.821475</td>\n",
              "      <td>6.814625</td>\n",
              "      <td>3.179250</td>\n",
              "      <td>0.394810</td>\n",
              "      <td>1.000000</td>\n",
              "    </tr>\n",
              "    <tr>\n",
              "      <th>max</th>\n",
              "      <td>6.824800</td>\n",
              "      <td>12.951600</td>\n",
              "      <td>17.927400</td>\n",
              "      <td>2.449500</td>\n",
              "      <td>1.000000</td>\n",
              "    </tr>\n",
              "  </tbody>\n",
              "</table>\n",
              "</div>"
            ],
            "text/plain": [
              "          variance     skewness     curtosis      entropy        class\n",
              "count  1372.000000  1372.000000  1372.000000  1372.000000  1372.000000\n",
              "mean      0.433735     1.922353     1.397627    -1.191657     0.444606\n",
              "std       2.842763     5.869047     4.310030     2.101013     0.497103\n",
              "min      -7.042100   -13.773100    -5.286100    -8.548200     0.000000\n",
              "25%      -1.773000    -1.708200    -1.574975    -2.413450     0.000000\n",
              "50%       0.496180     2.319650     0.616630    -0.586650     0.000000\n",
              "75%       2.821475     6.814625     3.179250     0.394810     1.000000\n",
              "max       6.824800    12.951600    17.927400     2.449500     1.000000"
            ]
          },
          "metadata": {
            "tags": []
          },
          "execution_count": 9
        }
      ]
    },
    {
      "cell_type": "code",
      "metadata": {
        "colab": {
          "base_uri": "https://localhost:8080/"
        },
        "id": "30J3fOEdv-oD",
        "outputId": "dd098976-d08d-4c3c-d71b-0c1d1ce54f33"
      },
      "source": [
        "df.isnull().any()"
      ],
      "execution_count": 10,
      "outputs": [
        {
          "output_type": "execute_result",
          "data": {
            "text/plain": [
              "variance    False\n",
              "skewness    False\n",
              "curtosis    False\n",
              "entropy     False\n",
              "class       False\n",
              "dtype: bool"
            ]
          },
          "metadata": {
            "tags": []
          },
          "execution_count": 10
        }
      ]
    },
    {
      "cell_type": "code",
      "metadata": {
        "colab": {
          "base_uri": "https://localhost:8080/",
          "height": 1000
        },
        "id": "N5xtXEcyOZOJ",
        "outputId": "39495ac2-db47-42a8-c4c2-5bb9bede031b"
      },
      "source": [
        "import matplotlib.pyplot as plt\n",
        "for i in df.columns:\n",
        "    plt.figure(figsize=(16, 6))\n",
        "    df[i].hist()\n",
        "    plt.title(i)"
      ],
      "execution_count": 11,
      "outputs": [
        {
          "output_type": "display_data",
          "data": {
            "image/png": "[encoded data removed]",
            "text/plain": [
              "<Figure size 1152x432 with 1 Axes>"
            ]
          },
          "metadata": {
            "tags": [],
            "needs_background": "light"
          }
        },
        {
          "output_type": "display_data",
          "data": {
            "image/png": "[encoded data removed]",
            "text/plain": [
              "<Figure size 1152x432 with 1 Axes>"
            ]
          },
          "metadata": {
            "tags": [],
            "needs_background": "light"
          }
        },
        {
          "output_type": "display_data",
          "data": {
            "image/png": "[encoded data removed]",
            "text/plain": [
              "<Figure size 1152x432 with 1 Axes>"
            ]
          },
          "metadata": {
            "tags": [],
            "needs_background": "light"
          }
        },
        {
          "output_type": "display_data",
          "data": {
            "image/png": "[encoded data removed]",
            "text/plain": [
              "<Figure size 1152x432 with 1 Axes>"
            ]
          },
          "metadata": {
            "tags": [],
            "needs_background": "light"
          }
        },
        {
          "output_type": "display_data",
          "data": {
            "image/png": "[encoded data removed]",
            "text/plain": [
              "<Figure size 1152x432 with 1 Axes>"
            ]
          },
          "metadata": {
            "tags": [],
            "needs_background": "light"
          }
        }
      ]
    },
    {
      "cell_type": "code",
      "metadata": {
        "colab": {
          "base_uri": "https://localhost:8080/",
          "height": 204
        },
        "id": "rGPiq8TiwZHg",
        "outputId": "eb88d52f-df92-4564-bdcc-f0d06025dc01"
      },
      "source": [
        "df = df.sample(frac=1).reset_index(drop=True)\n",
        "classes = [0,1]\n",
        "df.head(5)"
      ],
      "execution_count": 12,
      "outputs": [
        {
          "output_type": "execute_result",
          "data": {
            "text/html": [
              "<div>\n",
              "<style scoped>\n",
              "    .dataframe tbody tr th:only-of-type {\n",
              "        vertical-align: middle;\n",
              "    }\n",
              "\n",
              "    .dataframe tbody tr th {\n",
              "        vertical-align: top;\n",
              "    }\n",
              "\n",
              "    .dataframe thead th {\n",
              "        text-align: right;\n",
              "    }\n",
              "</style>\n",
              "<table border=\"1\" class=\"dataframe\">\n",
              "  <thead>\n",
              "    <tr style=\"text-align: right;\">\n",
              "      <th></th>\n",
              "      <th>variance</th>\n",
              "      <th>skewness</th>\n",
              "      <th>curtosis</th>\n",
              "      <th>entropy</th>\n",
              "      <th>class</th>\n",
              "    </tr>\n",
              "  </thead>\n",
              "  <tbody>\n",
              "    <tr>\n",
              "      <th>0</th>\n",
              "      <td>3.7731</td>\n",
              "      <td>7.207300</td>\n",
              "      <td>-1.68140</td>\n",
              "      <td>-0.947420</td>\n",
              "      <td>0</td>\n",
              "    </tr>\n",
              "    <tr>\n",
              "      <th>1</th>\n",
              "      <td>1.8373</td>\n",
              "      <td>6.129200</td>\n",
              "      <td>0.84027</td>\n",
              "      <td>0.552570</td>\n",
              "      <td>0</td>\n",
              "    </tr>\n",
              "    <tr>\n",
              "      <th>2</th>\n",
              "      <td>3.5189</td>\n",
              "      <td>6.332000</td>\n",
              "      <td>-1.77910</td>\n",
              "      <td>-0.020273</td>\n",
              "      <td>0</td>\n",
              "    </tr>\n",
              "    <tr>\n",
              "      <th>3</th>\n",
              "      <td>-1.7549</td>\n",
              "      <td>-0.080711</td>\n",
              "      <td>-0.75774</td>\n",
              "      <td>-0.370700</td>\n",
              "      <td>1</td>\n",
              "    </tr>\n",
              "    <tr>\n",
              "      <th>4</th>\n",
              "      <td>1.6472</td>\n",
              "      <td>0.482130</td>\n",
              "      <td>4.74490</td>\n",
              "      <td>1.225000</td>\n",
              "      <td>0</td>\n",
              "    </tr>\n",
              "  </tbody>\n",
              "</table>\n",
              "</div>"
            ],
            "text/plain": [
              "   variance  skewness  curtosis   entropy  class\n",
              "0    3.7731  7.207300  -1.68140 -0.947420      0\n",
              "1    1.8373  6.129200   0.84027  0.552570      0\n",
              "2    3.5189  6.332000  -1.77910 -0.020273      0\n",
              "3   -1.7549 -0.080711  -0.75774 -0.370700      1\n",
              "4    1.6472  0.482130   4.74490  1.225000      0"
            ]
          },
          "metadata": {
            "tags": []
          },
          "execution_count": 12
        }
      ]
    },
    {
      "cell_type": "code",
      "metadata": {
        "colab": {
          "base_uri": "https://localhost:8080/",
          "height": 895
        },
        "id": "jBdrcLtUqYjd",
        "outputId": "de46176d-85a8-4714-8e80-ae8ca084f882"
      },
      "source": [
        "import seaborn as sns\n",
        "df.plot(kind='box', subplots=True, layout=(3,3), figsize=(15,20), title='Numeric attributes')\n",
        "plt.show()"
      ],
      "execution_count": 13,
      "outputs": [
        {
          "output_type": "display_data",
          "data": {
            "image/png": "[encoded data removed]",
            "text/plain": [
              "<Figure size 1080x1440 with 9 Axes>"
            ]
          },
          "metadata": {
            "tags": [],
            "needs_background": "light"
          }
        }
      ]
    },
    {
      "cell_type": "code",
      "metadata": {
        "id": "yQz1WwOtw9ps"
      },
      "source": [
        "train_df = df[0:800].reset_index(drop=True)\n",
        "validation_df = df[801:1200].reset_index(drop=True)\n",
        "test_df = df[1200::].reset_index(drop=True)"
      ],
      "execution_count": 14,
      "outputs": []
    },
    {
      "cell_type": "code",
      "metadata": {
        "id": "5LFWDpnQxH1k"
      },
      "source": [
        "train_Y =train_df['class']\n",
        "train_X = train_df.loc[:, train_df.columns != 'class']"
      ],
      "execution_count": 15,
      "outputs": []
    },
    {
      "cell_type": "code",
      "metadata": {
        "id": "YyMxDUKOxTG_"
      },
      "source": [
        "validation_Y =validation_df['class'].reset_index(drop=True)\n",
        "validation_X = validation_df.loc[:, validation_df.columns != 'class']"
      ],
      "execution_count": 16,
      "outputs": []
    },
    {
      "cell_type": "code",
      "metadata": {
        "id": "qzWRm578xYT2"
      },
      "source": [
        "model = tf.keras.models.Sequential([                    \n",
        "        tf.keras.layers.Dense(4,activation='relu'),\n",
        "        tf.keras.layers.Dense(4,activation='relu'),\n",
        "        tf.keras.layers.Flatten(),\n",
        "        tf.keras.layers.Dense(1,activation='sigmoid')\n",
        "])"
      ],
      "execution_count": 17,
      "outputs": []
    },
    {
      "cell_type": "code",
      "metadata": {
        "id": "hCOZUemJxbiH"
      },
      "source": [
        "adam = Adam(0.001)\n",
        "model.compile(optimizer='adam',loss=tf.keras.losses.binary_crossentropy,metrics=['accuracy'])"
      ],
      "execution_count": 18,
      "outputs": []
    },
    {
      "cell_type": "code",
      "metadata": {
        "colab": {
          "base_uri": "https://localhost:8080/"
        },
        "id": "7N46eangxeQz",
        "outputId": "ee857724-326f-4937-8f8d-5fb2f51d59ef"
      },
      "source": [
        "history=model.fit(x=train_X,\n",
        "                  y=train_Y,\n",
        "                  epochs=70,\n",
        "                  validation_data =(validation_X,validation_Y))"
      ],
      "execution_count": 19,
      "outputs": [
        {
          "output_type": "stream",
          "text": [
            "Epoch 1/70\n",
            "25/25 [==============================] - 1s 12ms/step - loss: 0.7828 - accuracy: 0.3950 - val_loss: 0.7558 - val_accuracy: 0.4336\n",
            "Epoch 2/70\n",
            "25/25 [==============================] - 0s 3ms/step - loss: 0.7207 - accuracy: 0.4725 - val_loss: 0.6989 - val_accuracy: 0.5113\n",
            "Epoch 3/70\n",
            "25/25 [==============================] - 0s 3ms/step - loss: 0.6740 - accuracy: 0.5638 - val_loss: 0.6620 - val_accuracy: 0.6266\n",
            "Epoch 4/70\n",
            "25/25 [==============================] - 0s 2ms/step - loss: 0.6383 - accuracy: 0.6413 - val_loss: 0.6252 - val_accuracy: 0.6591\n",
            "Epoch 5/70\n",
            "25/25 [==============================] - 0s 3ms/step - loss: 0.6050 - accuracy: 0.6825 - val_loss: 0.5895 - val_accuracy: 0.6992\n",
            "Epoch 6/70\n",
            "25/25 [==============================] - 0s 3ms/step - loss: 0.5715 - accuracy: 0.7088 - val_loss: 0.5588 - val_accuracy: 0.7193\n",
            "Epoch 7/70\n",
            "25/25 [==============================] - 0s 3ms/step - loss: 0.5395 - accuracy: 0.7387 - val_loss: 0.5244 - val_accuracy: 0.7494\n",
            "Epoch 8/70\n",
            "25/25 [==============================] - 0s 3ms/step - loss: 0.5080 - accuracy: 0.7550 - val_loss: 0.4920 - val_accuracy: 0.7519\n",
            "Epoch 9/70\n",
            "25/25 [==============================] - 0s 2ms/step - loss: 0.4758 - accuracy: 0.7738 - val_loss: 0.4555 - val_accuracy: 0.7820\n",
            "Epoch 10/70\n",
            "25/25 [==============================] - 0s 3ms/step - loss: 0.4395 - accuracy: 0.8075 - val_loss: 0.4132 - val_accuracy: 0.8271\n",
            "Epoch 11/70\n",
            "25/25 [==============================] - 0s 3ms/step - loss: 0.3959 - accuracy: 0.8450 - val_loss: 0.3604 - val_accuracy: 0.8847\n",
            "Epoch 12/70\n",
            "25/25 [==============================] - 0s 3ms/step - loss: 0.3464 - accuracy: 0.8825 - val_loss: 0.3047 - val_accuracy: 0.9223\n",
            "Epoch 13/70\n",
            "25/25 [==============================] - 0s 3ms/step - loss: 0.2995 - accuracy: 0.9112 - val_loss: 0.2646 - val_accuracy: 0.9474\n",
            "Epoch 14/70\n",
            "25/25 [==============================] - 0s 2ms/step - loss: 0.2600 - accuracy: 0.9438 - val_loss: 0.2323 - val_accuracy: 0.9599\n",
            "Epoch 15/70\n",
            "25/25 [==============================] - 0s 3ms/step - loss: 0.2289 - accuracy: 0.9638 - val_loss: 0.2074 - val_accuracy: 0.9674\n",
            "Epoch 16/70\n",
            "25/25 [==============================] - 0s 3ms/step - loss: 0.2056 - accuracy: 0.9712 - val_loss: 0.1877 - val_accuracy: 0.9774\n",
            "Epoch 17/70\n",
            "25/25 [==============================] - 0s 2ms/step - loss: 0.1869 - accuracy: 0.9775 - val_loss: 0.1714 - val_accuracy: 0.9799\n",
            "Epoch 18/70\n",
            "25/25 [==============================] - 0s 3ms/step - loss: 0.1719 - accuracy: 0.9825 - val_loss: 0.1571 - val_accuracy: 0.9825\n",
            "Epoch 19/70\n",
            "25/25 [==============================] - 0s 2ms/step - loss: 0.1589 - accuracy: 0.9837 - val_loss: 0.1442 - val_accuracy: 0.9925\n",
            "Epoch 20/70\n",
            "25/25 [==============================] - 0s 3ms/step - loss: 0.1471 - accuracy: 0.9850 - val_loss: 0.1333 - val_accuracy: 0.9925\n",
            "Epoch 21/70\n",
            "25/25 [==============================] - 0s 3ms/step - loss: 0.1370 - accuracy: 0.9875 - val_loss: 0.1237 - val_accuracy: 0.9950\n",
            "Epoch 22/70\n",
            "25/25 [==============================] - 0s 3ms/step - loss: 0.1280 - accuracy: 0.9887 - val_loss: 0.1150 - val_accuracy: 0.9950\n",
            "Epoch 23/70\n",
            "25/25 [==============================] - 0s 3ms/step - loss: 0.1195 - accuracy: 0.9887 - val_loss: 0.1068 - val_accuracy: 0.9975\n",
            "Epoch 24/70\n",
            "25/25 [==============================] - 0s 3ms/step - loss: 0.1116 - accuracy: 0.9900 - val_loss: 0.0998 - val_accuracy: 0.9975\n",
            "Epoch 25/70\n",
            "25/25 [==============================] - 0s 2ms/step - loss: 0.1047 - accuracy: 0.9900 - val_loss: 0.0932 - val_accuracy: 0.9975\n",
            "Epoch 26/70\n",
            "25/25 [==============================] - 0s 2ms/step - loss: 0.0982 - accuracy: 0.9900 - val_loss: 0.0873 - val_accuracy: 0.9975\n",
            "Epoch 27/70\n",
            "25/25 [==============================] - 0s 3ms/step - loss: 0.0922 - accuracy: 0.9900 - val_loss: 0.0821 - val_accuracy: 0.9975\n",
            "Epoch 28/70\n",
            "25/25 [==============================] - 0s 3ms/step - loss: 0.0869 - accuracy: 0.9900 - val_loss: 0.0773 - val_accuracy: 0.9975\n",
            "Epoch 29/70\n",
            "25/25 [==============================] - 0s 3ms/step - loss: 0.0817 - accuracy: 0.9900 - val_loss: 0.0727 - val_accuracy: 0.9975\n",
            "Epoch 30/70\n",
            "25/25 [==============================] - 0s 3ms/step - loss: 0.0772 - accuracy: 0.9900 - val_loss: 0.0685 - val_accuracy: 0.9975\n",
            "Epoch 31/70\n",
            "25/25 [==============================] - 0s 3ms/step - loss: 0.0725 - accuracy: 0.9900 - val_loss: 0.0647 - val_accuracy: 0.9975\n",
            "Epoch 32/70\n",
            "25/25 [==============================] - 0s 3ms/step - loss: 0.0682 - accuracy: 0.9900 - val_loss: 0.0610 - val_accuracy: 0.9975\n",
            "Epoch 33/70\n",
            "25/25 [==============================] - 0s 3ms/step - loss: 0.0644 - accuracy: 0.9900 - val_loss: 0.0577 - val_accuracy: 0.9975\n",
            "Epoch 34/70\n",
            "25/25 [==============================] - 0s 2ms/step - loss: 0.0611 - accuracy: 0.9937 - val_loss: 0.0550 - val_accuracy: 1.0000\n",
            "Epoch 35/70\n",
            "25/25 [==============================] - 0s 3ms/step - loss: 0.0575 - accuracy: 0.9912 - val_loss: 0.0517 - val_accuracy: 0.9975\n",
            "Epoch 36/70\n",
            "25/25 [==============================] - 0s 2ms/step - loss: 0.0544 - accuracy: 0.9925 - val_loss: 0.0495 - val_accuracy: 1.0000\n",
            "Epoch 37/70\n",
            "25/25 [==============================] - 0s 3ms/step - loss: 0.0517 - accuracy: 0.9962 - val_loss: 0.0469 - val_accuracy: 1.0000\n",
            "Epoch 38/70\n",
            "25/25 [==============================] - 0s 3ms/step - loss: 0.0493 - accuracy: 0.9950 - val_loss: 0.0451 - val_accuracy: 1.0000\n",
            "Epoch 39/70\n",
            "25/25 [==============================] - 0s 3ms/step - loss: 0.0470 - accuracy: 0.9962 - val_loss: 0.0428 - val_accuracy: 1.0000\n",
            "Epoch 40/70\n",
            "25/25 [==============================] - 0s 3ms/step - loss: 0.0448 - accuracy: 0.9987 - val_loss: 0.0409 - val_accuracy: 1.0000\n",
            "Epoch 41/70\n",
            "25/25 [==============================] - 0s 3ms/step - loss: 0.0428 - accuracy: 1.0000 - val_loss: 0.0390 - val_accuracy: 1.0000\n",
            "Epoch 42/70\n",
            "25/25 [==============================] - 0s 2ms/step - loss: 0.0409 - accuracy: 1.0000 - val_loss: 0.0373 - val_accuracy: 1.0000\n",
            "Epoch 43/70\n",
            "25/25 [==============================] - 0s 3ms/step - loss: 0.0393 - accuracy: 0.9987 - val_loss: 0.0357 - val_accuracy: 1.0000\n",
            "Epoch 44/70\n",
            "25/25 [==============================] - 0s 2ms/step - loss: 0.0379 - accuracy: 1.0000 - val_loss: 0.0342 - val_accuracy: 1.0000\n",
            "Epoch 45/70\n",
            "25/25 [==============================] - 0s 3ms/step - loss: 0.0363 - accuracy: 0.9987 - val_loss: 0.0329 - val_accuracy: 1.0000\n",
            "Epoch 46/70\n",
            "25/25 [==============================] - 0s 2ms/step - loss: 0.0351 - accuracy: 1.0000 - val_loss: 0.0315 - val_accuracy: 1.0000\n",
            "Epoch 47/70\n",
            "25/25 [==============================] - 0s 2ms/step - loss: 0.0339 - accuracy: 0.9987 - val_loss: 0.0303 - val_accuracy: 1.0000\n",
            "Epoch 48/70\n",
            "25/25 [==============================] - 0s 2ms/step - loss: 0.0325 - accuracy: 1.0000 - val_loss: 0.0296 - val_accuracy: 1.0000\n",
            "Epoch 49/70\n",
            "25/25 [==============================] - 0s 3ms/step - loss: 0.0315 - accuracy: 0.9987 - val_loss: 0.0280 - val_accuracy: 1.0000\n",
            "Epoch 50/70\n",
            "25/25 [==============================] - 0s 3ms/step - loss: 0.0307 - accuracy: 0.9987 - val_loss: 0.0273 - val_accuracy: 1.0000\n",
            "Epoch 51/70\n",
            "25/25 [==============================] - 0s 2ms/step - loss: 0.0297 - accuracy: 1.0000 - val_loss: 0.0263 - val_accuracy: 1.0000\n",
            "Epoch 52/70\n",
            "25/25 [==============================] - 0s 3ms/step - loss: 0.0285 - accuracy: 1.0000 - val_loss: 0.0252 - val_accuracy: 1.0000\n",
            "Epoch 53/70\n",
            "25/25 [==============================] - 0s 3ms/step - loss: 0.0278 - accuracy: 1.0000 - val_loss: 0.0245 - val_accuracy: 1.0000\n",
            "Epoch 54/70\n",
            "25/25 [==============================] - 0s 3ms/step - loss: 0.0268 - accuracy: 0.9987 - val_loss: 0.0235 - val_accuracy: 1.0000\n",
            "Epoch 55/70\n",
            "25/25 [==============================] - 0s 3ms/step - loss: 0.0262 - accuracy: 0.9987 - val_loss: 0.0232 - val_accuracy: 1.0000\n",
            "Epoch 56/70\n",
            "25/25 [==============================] - 0s 2ms/step - loss: 0.0253 - accuracy: 1.0000 - val_loss: 0.0224 - val_accuracy: 1.0000\n",
            "Epoch 57/70\n",
            "25/25 [==============================] - 0s 3ms/step - loss: 0.0247 - accuracy: 0.9987 - val_loss: 0.0214 - val_accuracy: 1.0000\n",
            "Epoch 58/70\n",
            "25/25 [==============================] - 0s 3ms/step - loss: 0.0244 - accuracy: 1.0000 - val_loss: 0.0209 - val_accuracy: 1.0000\n",
            "Epoch 59/70\n",
            "25/25 [==============================] - 0s 3ms/step - loss: 0.0239 - accuracy: 0.9987 - val_loss: 0.0201 - val_accuracy: 1.0000\n",
            "Epoch 60/70\n",
            "25/25 [==============================] - 0s 3ms/step - loss: 0.0229 - accuracy: 1.0000 - val_loss: 0.0196 - val_accuracy: 1.0000\n",
            "Epoch 61/70\n",
            "25/25 [==============================] - 0s 3ms/step - loss: 0.0223 - accuracy: 1.0000 - val_loss: 0.0192 - val_accuracy: 1.0000\n",
            "Epoch 62/70\n",
            "25/25 [==============================] - 0s 3ms/step - loss: 0.0217 - accuracy: 1.0000 - val_loss: 0.0186 - val_accuracy: 1.0000\n",
            "Epoch 63/70\n",
            "25/25 [==============================] - 0s 3ms/step - loss: 0.0210 - accuracy: 1.0000 - val_loss: 0.0181 - val_accuracy: 1.0000\n",
            "Epoch 64/70\n",
            "25/25 [==============================] - 0s 3ms/step - loss: 0.0206 - accuracy: 1.0000 - val_loss: 0.0176 - val_accuracy: 1.0000\n",
            "Epoch 65/70\n",
            "25/25 [==============================] - 0s 2ms/step - loss: 0.0199 - accuracy: 1.0000 - val_loss: 0.0174 - val_accuracy: 1.0000\n",
            "Epoch 66/70\n",
            "25/25 [==============================] - 0s 3ms/step - loss: 0.0195 - accuracy: 1.0000 - val_loss: 0.0168 - val_accuracy: 1.0000\n",
            "Epoch 67/70\n",
            "25/25 [==============================] - 0s 3ms/step - loss: 0.0191 - accuracy: 1.0000 - val_loss: 0.0162 - val_accuracy: 1.0000\n",
            "Epoch 68/70\n",
            "25/25 [==============================] - 0s 3ms/step - loss: 0.0186 - accuracy: 1.0000 - val_loss: 0.0158 - val_accuracy: 1.0000\n",
            "Epoch 69/70\n",
            "25/25 [==============================] - 0s 3ms/step - loss: 0.0181 - accuracy: 1.0000 - val_loss: 0.0156 - val_accuracy: 1.0000\n",
            "Epoch 70/70\n",
            "25/25 [==============================] - 0s 2ms/step - loss: 0.0177 - accuracy: 1.0000 - val_loss: 0.0152 - val_accuracy: 1.0000\n"
          ],
          "name": "stdout"
        }
      ]
    },
    {
      "cell_type": "code",
      "metadata": {
        "colab": {
          "base_uri": "https://localhost:8080/",
          "height": 298
        },
        "id": "1b3P62VCxgt3",
        "outputId": "5547a6a3-a026-4359-edb3-3c4d34c8a791"
      },
      "source": [
        "import matplotlib.pyplot as plt\n",
        "acc = history.history['accuracy']\n",
        "val_acc = history.history['val_accuracy']\n",
        "loss = history.history['loss']\n",
        "val_loss = history.history['val_loss']\n",
        "epochs = range(len(acc))\n",
        "plt.plot(epochs, loss, 'r', label='Training Loss')\n",
        "plt.plot(epochs, val_loss, 'b', label='Validation Loss')\n",
        "plt.title('Training and validation Loss')\n",
        "plt.legend(loc=0)\n",
        "plt.figure()\n",
        "\n",
        "plt.show()"
      ],
      "execution_count": 20,
      "outputs": [
        {
          "output_type": "display_data",
          "data": {
            "image/png": "[encoded data removed]",
            "text/plain": [
              "<Figure size 432x288 with 1 Axes>"
            ]
          },
          "metadata": {
            "tags": [],
            "needs_background": "light"
          }
        },
        {
          "output_type": "display_data",
          "data": {
            "text/plain": [
              "<Figure size 432x288 with 0 Axes>"
            ]
          },
          "metadata": {
            "tags": []
          }
        }
      ]
    },
    {
      "cell_type": "code",
      "metadata": {
        "id": "xliemeTix1WQ"
      },
      "source": [
        "testing_data = test_df.loc[:, test_df.columns != 'class']\n",
        "pred = model.predict(testing_data)\n",
        "for x in range(len(pred)):\n",
        "  if pred[x]<0.5:\n",
        "    pred[x]=0\n",
        "  else:\n",
        "    pred[x]=1\n",
        "# print(pred)\n",
        "test_df['Predicted'] = pred\n"
      ],
      "execution_count": 21,
      "outputs": []
    },
    {
      "cell_type": "code",
      "metadata": {
        "id": "HFS0Ld8Ex5fH"
      },
      "source": [
        "y_test = test_df['class']\n",
        "y_pred = test_df['Predicted'].astype(int)"
      ],
      "execution_count": 22,
      "outputs": []
    },
    {
      "cell_type": "code",
      "metadata": {
        "colab": {
          "base_uri": "https://localhost:8080/"
        },
        "id": "v0fwUKkGx8yh",
        "outputId": "990b5780-e408-423a-c78f-4e0179dd190c"
      },
      "source": [
        "import itertools\n",
        "from sklearn.metrics import classification_report,confusion_matrix,accuracy_score\n",
        "print(classification_report(y_test, y_pred))\n",
        "cnf_matrix = confusion_matrix(y_test,y_pred)"
      ],
      "execution_count": 23,
      "outputs": [
        {
          "output_type": "stream",
          "text": [
            "              precision    recall  f1-score   support\n",
            "\n",
            "           0       1.00      1.00      1.00       103\n",
            "           1       1.00      1.00      1.00        69\n",
            "\n",
            "    accuracy                           1.00       172\n",
            "   macro avg       1.00      1.00      1.00       172\n",
            "weighted avg       1.00      1.00      1.00       172\n",
            "\n"
          ],
          "name": "stdout"
        }
      ]
    },
    {
      "cell_type": "code",
      "metadata": {
        "colab": {
          "base_uri": "https://localhost:8080/",
          "height": 746
        },
        "id": "89hKjLJ1x_qQ",
        "outputId": "5bdd7b2f-6a72-4aad-c669-c5ef161672b7"
      },
      "source": [
        "def plot_confusion_matrix(cm, classes, title='Confusion matrix', cmap=plt.cm.Blues):\n",
        "    cm = cm.astype('float') / cm.sum(axis=1)[:, np.newaxis]\n",
        "    plt.figure(figsize=(10,10))\n",
        "    plt.imshow(cm, interpolation='nearest', cmap=cmap)\n",
        "    plt.title(title)\n",
        "    plt.colorbar()\n",
        "    tick_marks = np.arange(len(classes))\n",
        "    plt.xticks(tick_marks, classes, rotation=45)\n",
        "    plt.yticks(tick_marks, classes)\n",
        "\n",
        "    fmt = '.2f'\n",
        "    thresh = cm.max() / 2.\n",
        "    for i, j in itertools.product(range(cm.shape[0]), range(cm.shape[1])):\n",
        "        plt.text(j, i, format(cm[i, j], fmt),\n",
        "                 horizontalalignment=\"center\",\n",
        "                 color=\"white\" if cm[i, j] > thresh else \"black\")\n",
        "\n",
        "    plt.ylabel('True label')\n",
        "    plt.xlabel('Predicted label')\n",
        "    plt.tight_layout()\n",
        "\n",
        "np.set_printoptions(precision=2)\n",
        "\n",
        "\n",
        "# plot normalized confusion matrix\n",
        "plt.figure()\n",
        "plot_confusion_matrix(cnf_matrix, classes=classes, title='Normalized confusion matrix')\n",
        "plt.show()"
      ],
      "execution_count": 24,
      "outputs": [
        {
          "output_type": "display_data",
          "data": {
            "text/plain": [
              "<Figure size 432x288 with 0 Axes>"
            ]
          },
          "metadata": {
            "tags": []
          }
        },
        {
          "output_type": "display_data",
          "data": {
            "image/png": "[encoded data removed]",
            "text/plain": [
              "<Figure size 720x720 with 2 Axes>"
            ]
          },
          "metadata": {
            "tags": [],
            "needs_background": "light"
          }
        }
      ]
    },
    {
      "cell_type": "code",
      "metadata": {
        "id": "jJImTCqUyNMz",
        "colab": {
          "base_uri": "https://localhost:8080/",
          "height": 295
        },
        "outputId": "9d0e44c7-c1e0-4dbe-8952-9086240afd31"
      },
      "source": [
        "# ploating model accuracy\n",
        "plt.plot(history.history['val_accuracy'])\n",
        "\n",
        "plt.title(\"model accuracy\")\n",
        "\n",
        "plt.ylabel('accuracy')\n",
        "plt.xlabel(\"epoch\")\n",
        "plt.legend(['train'],loc='upper left')\n",
        "\n",
        "plt.show()"
      ],
      "execution_count": 25,
      "outputs": [
        {
          "output_type": "display_data",
          "data": {
            "image/png": "[encoded data removed]",
            "text/plain": [
              "<Figure size 432x288 with 1 Axes>"
            ]
          },
          "metadata": {
            "tags": [],
            "needs_background": "light"
          }
        }
      ]
    },
    {
      "cell_type": "code",
      "metadata": {
        "colab": {
          "base_uri": "https://localhost:8080/",
          "height": 295
        },
        "id": "8f8TWrxX8lS8",
        "outputId": "2c552a4e-e1c8-4079-a4b2-9b5f608e5c7e"
      },
      "source": [
        "# ploating model loss\n",
        "plt.plot(history.history['val_loss'])\n",
        "\n",
        "plt.title(\"model loss\")\n",
        "\n",
        "plt.ylabel('loss')\n",
        "plt.xlabel(\"epoch\")\n",
        "plt.legend(['train'],loc='upper left')\n",
        "\n",
        "plt.show()"
      ],
      "execution_count": 26,
      "outputs": [
        {
          "output_type": "display_data",
          "data": {
            "image/png": "[encoded data removed]",
            "text/plain": [
              "<Figure size 432x288 with 1 Axes>"
            ]
          },
          "metadata": {
            "tags": [],
            "needs_background": "light"
          }
        }
      ]
    },
    {
      "cell_type": "code",
      "metadata": {
        "id": "8PNc8Q9ZAH2k",
        "colab": {
          "base_uri": "https://localhost:8080/",
          "height": 282
        },
        "outputId": "b17e841c-061a-4412-8422-e7528012e9f0"
      },
      "source": [
        "x = df.iloc[:, :-1]\n",
        "y = df.iloc[:,-1]\n",
        "\n",
        "from sklearn.ensemble import ExtraTreesClassifier\n",
        "import matplotlib.pyplot as plt\n",
        "model = ExtraTreesClassifier()\n",
        "model.fit(x,y)\n",
        "print(model.feature_importances_) \n",
        "feat_importances = pd.Series(model.feature_importances_, index=x.columns)\n",
        "feat_importances.nlargest(12).plot(kind='barh')\n",
        "plt.show()"
      ],
      "execution_count": 27,
      "outputs": [
        {
          "output_type": "stream",
          "text": [
            "[0.51 0.28 0.15 0.06]\n"
          ],
          "name": "stdout"
        },
        {
          "output_type": "display_data",
          "data": {
            "image/png": "[encoded data removed]",
            "text/plain": [
              "<Figure size 432x288 with 1 Axes>"
            ]
          },
          "metadata": {
            "tags": [],
            "needs_background": "light"
          }
        }
      ]
    },
    {
      "cell_type": "code",
      "metadata": {
        "id": "XjymRvdFjzc6"
      },
      "source": [
        ""
      ],
      "execution_count": null,
      "outputs": []
    }
  ]
}